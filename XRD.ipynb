{
 "cells": [
  {
   "cell_type": "code",
   "execution_count": 3,
   "metadata": {},
   "outputs": [
    {
     "name": "stdout",
     "output_type": "stream",
     "text": [
      "\n",
      "Processing folder: Sample_2\n",
      "Saved plot: /Users/hpark108/20250318_CuTi_for_Rohit/XRDResults/Sample_2/Sample_2_Combined_XRD.png\n",
      "\n",
      "Processing folder: Sample_3\n",
      "Saved plot: /Users/hpark108/20250318_CuTi_for_Rohit/XRDResults/Sample_3/Sample_3_Combined_XRD.png\n",
      "\n",
      "Processing folder: Sample_4\n",
      "Saved plot: /Users/hpark108/20250318_CuTi_for_Rohit/XRDResults/Sample_4/Sample_4_Combined_XRD.png\n",
      "\n",
      "Processing folder: Sample 6\n",
      "missing\n",
      "\n",
      "Processing folder: Sample_1\n",
      "Saved plot: /Users/hpark108/20250318_CuTi_for_Rohit/XRDResults/Sample_1/Sample_1_Combined_XRD.png\n"
     ]
    }
   ],
   "source": [
    "import os\n",
    "import matplotlib.pyplot as plt\n",
    "import csv\n",
    "\n",
    "# Base directory containing subfolders with sample data\n",
    "base_directory = \"/Users/hpark108/20250318_CuTi_for_Rohit/XRDResults\"\n",
    "\n",
    "# Define required scan point files (as .txt)\n",
    "required_files = [f\"scan_point_{i}.txt\" for i in range(5)]\n",
    "\n",
    "# Get list of all subdirectories (samples)\n",
    "sample_folders = [f for f in os.listdir(base_directory) if os.path.isdir(os.path.join(base_directory, f))]\n",
    "\n",
    "# Process each sample folder\n",
    "for folder in sample_folders:\n",
    "    folder_path = os.path.join(base_directory, folder)\n",
    "    print(f\"\\nProcessing folder: {folder}\")\n",
    "\n",
    "    # Check if all required scan files are present\n",
    "    existing_files = os.listdir(folder_path)\n",
    "    if not all(file in existing_files for file in required_files):\n",
    "        print(\"missing\")\n",
    "        continue\n",
    "\n",
    "    plt.figure(figsize=(10, 6))\n",
    "    missing_data = False\n",
    "\n",
    "    for file in required_files:\n",
    "        file_path = os.path.join(folder_path, file)\n",
    "        angles = []\n",
    "        intensities = []\n",
    "\n",
    "        try:\n",
    "            with open(file_path, \"r\") as txtfile:\n",
    "                reader = csv.reader(txtfile, delimiter=\"\\t\")  # Assuming tab-separated, adjust if needed\n",
    "                for row in reader:\n",
    "                    if len(row) >= 2:\n",
    "                        try:\n",
    "                            angles.append(float(row[0]))\n",
    "                            intensities.append(float(row[1]))\n",
    "                        except ValueError:\n",
    "                            continue\n",
    "\n",
    "            plt.plot(angles, intensities, label=file.replace(\".txt\", \"\"), linewidth=1)\n",
    "\n",
    "        except Exception as e:\n",
    "            print(f\"Could not process {file}: {e}\")\n",
    "            missing_data = True\n",
    "            break\n",
    "\n",
    "    if missing_data:\n",
    "        print(\"missing\")\n",
    "        plt.close()\n",
    "        continue\n",
    "\n",
    "    plt.xlabel(\"2θ (Degrees)\")\n",
    "    plt.ylabel(\"Intensity (a.u.)\")\n",
    "    plt.title(f\"{folder} - Combined XRD Pattern\")\n",
    "    plt.grid(True)\n",
    "    plt.legend()\n",
    "    output_path = os.path.join(folder_path, f\"{folder}_Combined_XRD.png\")\n",
    "    plt.savefig(output_path, dpi=300)\n",
    "    plt.close()\n",
    "    print(f\"Saved plot: {output_path}\")\n"
   ]
  }
 ],
 "metadata": {
  "kernelspec": {
   "display_name": "hexrdgui",
   "language": "python",
   "name": "python3"
  },
  "language_info": {
   "codemirror_mode": {
    "name": "ipython",
    "version": 3
   },
   "file_extension": ".py",
   "mimetype": "text/x-python",
   "name": "python",
   "nbconvert_exporter": "python",
   "pygments_lexer": "ipython3",
   "version": "3.11.9"
  }
 },
 "nbformat": 4,
 "nbformat_minor": 2
}
